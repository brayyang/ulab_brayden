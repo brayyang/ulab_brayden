{
 "cells": [
  {
   "cell_type": "markdown",
   "id": "21a1f0d2-d75c-4443-b816-1d1db3760454",
   "metadata": {},
   "source": [
    "# HW 6 - Iterables\n",
    "ULAB - Physics and Astronomy Division \\\n",
    "Due **Wednesday, October 30th, 2024 at 11:59pm** on Gradescope\n",
    "\n",
    "### REMINDER: Once you are done with this homework, make sure to include a screenshot of you pushing this notebook inside of your homework6 branch. Make sure to include this screenshot in your branch before submitting to Gradescope!\n",
    "\n",
    "### If there is no screenshot, then you will recieve a zero! \n",
    "\n",
    "General Tip (so you don't get silly points taken off):\n",
    "- Make sure **each function** follows good coding practices (i.e. a comment, detailed names, different steps on each line, etc)."
   ]
  },
  {
   "cell_type": "markdown",
   "id": "8dc7e46b-1e8e-486c-a2e9-d615c687028b",
   "metadata": {},
   "source": [
    "# 1 Lists\n",
    "\n",
    "## 1.1 List Slicing and Striding\n",
    "Write a **function** that takes in a list of integers and returns:\n",
    "\n",
    "- the first 5 elements\n",
    "- the last 5 elements\n",
    "- every 2nd element in the list\n",
    "- the list in reverse order.\n",
    "\n",
    "Use the test case below, along with two other ones (that you make-up):\n",
    "\n",
    "```\n",
    "list_1 = [1, 2, 3, 4, 5, 6, 7, 8, 9, 10, 11, 12, 14, 15, 16, 17, 18, 19, 20]\n",
    "```"
   ]
  },
  {
   "cell_type": "code",
   "execution_count": 3,
   "id": "08dabd73-3dbc-4aab-843a-d4b81102835d",
   "metadata": {},
   "outputs": [
    {
     "name": "stdout",
     "output_type": "stream",
     "text": [
      "[[1, 2, 3, 4, 5], [16, 17, 18, 19, 20], [1, 3, 5, 7, 9, 11, 14, 16, 18, 20], [20, 19, 18, 17, 16, 15, 14, 12, 11, 10, 9, 8, 7, 6, 5, 4, 3, 2, 1]]\n",
      "[[2, 3, 5, 7, 11], [7, 11, 13, 17, 19], [2, 5, 11, 17], [19, 17, 13, 11, 7, 5, 3, 2]]\n",
      "[[2, 3, 5, 8, 13], [3, 5, 8, 13, 21], [2, 5, 13], [21, 13, 8, 5, 3, 2]]\n"
     ]
    }
   ],
   "source": [
    "# Your code here for 1.1\n",
    "\n",
    "list_1 = [1, 2, 3, 4, 5, 6, 7, 8, 9, 10, 11, 12, 14, 15, 16, 17, 18, 19, 20]\n",
    "\n",
    "def list_functions_1(list_1):\n",
    "    # List_functions will output the first and last 5 elements, every 2nd element, and the reversed list\n",
    "    slice_first = list_1[0:5]\n",
    "    slice_last = list_1[14:19]\n",
    "    stride = list_1[0:20:2]\n",
    "    reverse_list = [20, 19, 18, 17, 16, 15, 14, 12, 11, 10, 9, 8, 7, 6, 5, 4, 3, 2, 1]\n",
    "    return [slice_first] + [slice_last] + [stride] + [reverse_list]\n",
    "\n",
    "print(list_functions_1(list_1))\n",
    "\n",
    "# Second list\n",
    "\n",
    "list_2 = [2, 3, 5, 7, 11, 13, 17, 19]\n",
    "\n",
    "def list_functions_2(list_2):\n",
    "    # List_functions_2 will output the first and last 5 elements, every 2nd element, and the reversed list for the second list\n",
    "    slice_first_2 = list_2[0:5]\n",
    "    slice_last_2 = list_2[3:8]\n",
    "    stride_2 = list_2[0:7:2]\n",
    "    reverse_list_2 = [19, 17, 13, 11, 7, 5, 3, 2]\n",
    "    return [slice_first_2] + [slice_last_2] + [stride_2] + [reverse_list_2]\n",
    "                                                    \n",
    "print(list_functions_2(list_2))\n",
    "\n",
    "# Third list\n",
    "\n",
    "list_3 = [2, 3, 5, 8, 13, 21]\n",
    "\n",
    "def list_functions_3(list_3):\n",
    "    # List_functions_3 will output the first and last 5 elements, every 2nd element, and the reverse list for the third list\n",
    "    slice_first_3 = list_3[0:5]\n",
    "    slice_last_3 = list_3[1:6]\n",
    "    stride_3 = list_3[0:5:2]\n",
    "    reverse_list_3 = [21, 13, 8, 5, 3, 2]\n",
    "    return [slice_first_3] + [slice_last_3] + [stride_3] + [reverse_list_3]\n",
    "\n",
    "print(list_functions_3(list_3))"
   ]
  },
  {
   "cell_type": "markdown",
   "id": "92c77920-20fc-455e-bf52-10b5a518ed2d",
   "metadata": {},
   "source": [
    "## 1.2 Iterating Over Lists with For Loops\n",
    "Write a **function** that takes in a list, with a **for** loop to return: \n",
    "- the square of each number in the list\n",
    "- the cube of each even number in the list\n",
    "\n",
    "Use the test case below, along with two other ones (that you make-up):\n",
    "\n",
    "```\n",
    "my_list = [1, 2, 3, 4, 5]\n",
    "```"
   ]
  },
  {
   "cell_type": "code",
   "execution_count": 4,
   "id": "5054c807-a247-4159-9ce1-43020bcc3000",
   "metadata": {},
   "outputs": [
    {
     "name": "stdout",
     "output_type": "stream",
     "text": [
      "First list:\n",
      "1\n",
      "4\n",
      "9\n",
      "16\n",
      "25\n",
      "36\n",
      "0\n",
      "8\n",
      "64\n",
      "216\n",
      "Second list:\n",
      "1\n",
      "1\n",
      "4\n",
      "36\n",
      "576\n",
      "14400\n",
      "0\n",
      "8\n",
      "64\n",
      "216\n",
      "Third list:\n",
      "1\n",
      "0\n",
      "1\n",
      "0\n",
      "1\n",
      "0\n",
      "0\n",
      "8\n",
      "64\n",
      "216\n"
     ]
    }
   ],
   "source": [
    "# Your code here for 1.2\n",
    "print(\"First list:\")\n",
    "my_list = [1, 2, 3, 4, 5, 6]\n",
    "\n",
    "def squares_and_cubes(my_list):\n",
    "    # Calculating squares and cubes for first list\n",
    "    for i in my_list:\n",
    "        print(i**2)\n",
    "    for i in range(0,7,2):\n",
    "        print(i**3)\n",
    "    return \n",
    "\n",
    "squares_and_cubes(my_list)\n",
    "\n",
    "# Second list\n",
    "print(\"Second list:\")\n",
    "my_list_2 = (1, 1, 2, 6, 24, 120)\n",
    "\n",
    "squares_and_cubes(my_list_2)\n",
    "\n",
    "# Third list\n",
    "print(\"Third list:\")\n",
    "my_list_3 = (1, 0, -1, 0, 1, 0)\n",
    "\n",
    "squares_and_cubes(my_list_3)"
   ]
  },
  {
   "cell_type": "markdown",
   "id": "e2e075da-c004-400d-b796-5435e096816d",
   "metadata": {},
   "source": [
    "# 2 Dictionaries\n",
    "We have not fully covered **dictionaries** in class, but a **dictionary** is a collection of key-value pairs. Each key is unique and is associated with a specific value. Like a real dictionary! \n",
    "\n",
    "You can create a dictionary by placing key-value pairs inside of curly brackets `{}` with a `:` separating the key from the value. \n",
    "\n",
    "Run the cell below for an example:"
   ]
  },
  {
   "cell_type": "code",
   "execution_count": 5,
   "id": "dbdb0f41-4f57-4524-ab51-ff1fc502bdfc",
   "metadata": {},
   "outputs": [
    {
     "name": "stdout",
     "output_type": "stream",
     "text": [
      "{'Mercury': 0.39, 'Venus': 0.72, 'Earth': 1.0, 'Mars': 1.52, 'Jupiter': 5.2, 'Saturn': 9.58, 'Uranus': 19.22, 'Neptune': 30.05}\n"
     ]
    }
   ],
   "source": [
    "# A dictionary that contains some data about the planets in our solar system\n",
    "planet_data = {\n",
    "    \"Mercury\": 0.39, \n",
    "    \"Venus\": 0.72,\n",
    "    \"Earth\": 1.00, # distance from the Sun in AU\n",
    "    \"Mars\": 1.52,\n",
    "    \"Jupiter\": 5.20,\n",
    "    \"Saturn\": 9.58,\n",
    "    \"Uranus\": 19.22,\n",
    "    \"Neptune\": 30.05\n",
    "}   \n",
    "\n",
    "print(planet_data) # print the dictonary"
   ]
  },
  {
   "cell_type": "markdown",
   "id": "886c93f4-0027-4969-ba67-cc12eca04c9c",
   "metadata": {},
   "source": [
    "## 2.1 Looping through a dictionary\n",
    "Write a function that takes in the `planet_data` dictionary and uses a `for` loop to print the names of each of the planets and its distance from the sun."
   ]
  },
  {
   "cell_type": "code",
   "execution_count": 6,
   "id": "a3ab065a-42f5-4aa0-8e0f-38e87c583464",
   "metadata": {},
   "outputs": [
    {
     "name": "stdout",
     "output_type": "stream",
     "text": [
      "Mercury: 0.39\n",
      "Venus: 0.72\n",
      "Earth: 1.0\n",
      "Mars: 1.52\n",
      "Jupiter: 5.2\n",
      "Saturn: 9.58\n",
      "Uranus: 19.22\n",
      "Neptune: 30.05\n"
     ]
    }
   ],
   "source": [
    "# Your code here for 2.1\n",
    "planet_data = {\n",
    "    \"Mercury\": 0.39, \n",
    "    \"Venus\": 0.72,\n",
    "    \"Earth\": 1.00, # distance from the Sun in AU\n",
    "    \"Mars\": 1.52,\n",
    "    \"Jupiter\": 5.20,\n",
    "    \"Saturn\": 9.58,\n",
    "    \"Uranus\": 19.22,\n",
    "    \"Neptune\": 30.05\n",
    "}\n",
    "\n",
    "def space_info(planet_data):\n",
    "    # Defining keys and values so function can print them\n",
    "    for planet, distance in planet_data.items(): \n",
    "        print(f\"{planet}: {distance}\") # Printing the keys and values\n",
    "    return\n",
    "\n",
    "space_info(planet_data)"
   ]
  },
  {
   "cell_type": "markdown",
   "id": "2b38b6fb-ce68-4f20-a8a1-ba241e8db53e",
   "metadata": {},
   "source": [
    "## 2.2 Dictionaries and Conditionals\n",
    "Write a function that uses a while loop to print all the planets that are a minimum distance of 5 AU from the Sun. "
   ]
  },
  {
   "cell_type": "code",
   "execution_count": 8,
   "id": "6e07cf13-efba-4a75-ad75-0428dc31108d",
   "metadata": {},
   "outputs": [
    {
     "name": "stdout",
     "output_type": "stream",
     "text": [
      "Jupiter\n",
      "Saturn\n",
      "Uranus\n",
      "Neptune\n"
     ]
    }
   ],
   "source": [
    "# Your code here for 2.2\n",
    "planet_data = {\n",
    "    \"Mercury\": 0.39, \n",
    "    \"Venus\": 0.72,\n",
    "    \"Earth\": 1.00,  # distance from the Sun in AU\n",
    "    \"Mars\": 1.52,\n",
    "    \"Jupiter\": 5.20,\n",
    "    \"Saturn\": 9.58,\n",
    "    \"Uranus\": 19.22,\n",
    "    \"Neptune\": 30.05\n",
    "}\n",
    "\n",
    "def planet_distance(min_distance): \n",
    "    # Convert dict to a list of variables\n",
    "    planet_items = list(planet_data.items())\n",
    "    # Set index to zero for the loop\n",
    "    index = 0\n",
    "    while index < len(planet_items):\n",
    "        planet, distance = planet_items[index]\n",
    "        if distance >= min_distance:\n",
    "            print(f\"{planet}\")\n",
    "        # Adding an index for each loop\n",
    "        index += 1\n",
    "    return\n",
    "\n",
    "planet_distance(5)"
   ]
  },
  {
   "cell_type": "markdown",
   "id": "5e1ba0c0-5dd9-44e8-895c-73a36d614949",
   "metadata": {},
   "source": [
    "# 3 Observing Stars in a Cluster\n",
    "Your goal is to calculate the total brightness of a group of stars in a star cluster and estimate how long it would take for a telescope to observer each star, depending on their brightness (magnitude). Here is some background information:\n",
    "- The brightness of a star, from a telescope, is measured by its **apparent magnitude**, a LOWER magnitude means a brighter star. A HIGHER magnitude means a fainter star. So a 4th magnitude star is much brighter than a 17th magnitude star.\n",
    "- To convert magnitude into brightness, use the following formula\n",
    "$$\n",
    "\\text{Brightness} = 10^{-\\frac{\\text{magnitude}}{2.5}}\n",
    "$$\n",
    "\n",
    "Use this list of magnitudes and time limit:\n",
    "\n",
    "```\n",
    "magnitudes = [12.5, 13.2, 14.8, 19.1, 21.0, 18.5, 15.3, 10.5, 23.0]\n",
    "time_limit = 500\n",
    "```\n",
    "\n",
    "Expected outcome (your solutions with be the answers to the ???):\n",
    "- Total brightness of the stars: ???\n",
    "- Total observation time for all observable stars: ???\n",
    "- Number of stars that can be observed within 500 seconds: ???"
   ]
  },
  {
   "cell_type": "markdown",
   "id": "336785a7-71bf-434d-982c-dd72dd29cf71",
   "metadata": {},
   "source": [
    "## 3.1 Calculate Brightness\n",
    "1) Write a **function** which inputs a list of star magnitudes (brightnesses).\n",
    "2) Inside your function, use a `for` loop to calculate (with the given formula) the brightness of each star.\n",
    "3) Inside your function, use a `for` loop to sum up the total brightness of all the stars.\n",
    "5) Have your function return the **total brightness** of all the stars and a **list of the brightnesses** of the stars.\n",
    "6) Test out your function with the **given** magnitude values."
   ]
  },
  {
   "cell_type": "code",
   "execution_count": 9,
   "id": "ccc331f4-c029-4a82-810b-4a78d0fa1a2a",
   "metadata": {},
   "outputs": [
    {
     "data": {
      "text/plain": [
       "(8.037198248279666e-05,\n",
       " [1e-05,\n",
       "  5.248074602497734e-06,\n",
       "  1.2022644346174132e-06,\n",
       "  2.29086765276777e-08,\n",
       "  3.981071705534969e-09,\n",
       "  3.981071705534969e-08,\n",
       "  7.585775750291836e-07,\n",
       "  6.309573444801929e-05,\n",
       "  6.309573444801942e-10])"
      ]
     },
     "execution_count": 9,
     "metadata": {},
     "output_type": "execute_result"
    }
   ],
   "source": [
    "# Your code here for 3.1\n",
    "magnitudes = [12.5, 13.2, 14.8, 19.1, 21.0, 18.5, 15.3, 10.5, 23.0]\n",
    "time_limit = 500\n",
    "\n",
    "# First defining my variables\n",
    "brightness_list = []\n",
    "total_brightness = 0\n",
    "\n",
    "def star_brightnesses(total_brightness, brightness_list):\n",
    "    # Append the calculated brightnesses into a list\n",
    "    for i in magnitudes:\n",
    "        brightness_list.append(10 ** (-i / 2.5))\n",
    "    # Then sum the brightnesses\n",
    "    for brightness in brightness_list:\n",
    "        total_brightness += brightness\n",
    "    return total_brightness, brightness_list\n",
    "\n",
    "star_brightnesses(total_brightness, brightness_list)\n",
    "    "
   ]
  },
  {
   "cell_type": "markdown",
   "id": "9aff0e1c-9f88-4ebb-a05b-d39363d9e88e",
   "metadata": {},
   "source": [
    "## 3.2 Observation Time\n",
    "1) Write a **function** which inputs a list of star magnitudes (brightnesses).\n",
    "2) Inside your function, use a `for` loop to calculate the time to observe each star.\n",
    "- You can just assume each star's observation time is inversely proportional to its brightness with the following formula:\n",
    "\n",
    "$$\n",
    "\\text{Observation Time (in seconds)} \\propto \\frac{1}{\\text{Brightness}} \n",
    "$$\n",
    "\n",
    "3) Inside you function, write a `condition` that ignores stars that have a magnitude greater than 20 (very very faint stars).\n",
    "4) Have your function return the **total observation time** (ignoring >20 magnitudes) and a **list of the times** it would take to observe each individual star.\n",
    "5) Test out your function with the **given** magnitude values."
   ]
  },
  {
   "cell_type": "code",
   "execution_count": 10,
   "id": "044d17cf-82a8-44b6-8958-447632f713f6",
   "metadata": {},
   "outputs": [
    {
     "name": "stdout",
     "output_type": "stream",
     "text": [
      "Ignored\n",
      "Ignored\n"
     ]
    },
    {
     "data": {
      "text/plain": [
       "([99999.99999999999,\n",
       "  190546.07179632442,\n",
       "  831763.7711026708,\n",
       "  43651583.22401666,\n",
       "  25118864.315095823,\n",
       "  1318256.7385564074,\n",
       "  15848.931924611143],\n",
       " 71226863.0524925)"
      ]
     },
     "execution_count": 10,
     "metadata": {},
     "output_type": "execute_result"
    }
   ],
   "source": [
    "# Your code here for 3.2\n",
    "\n",
    "# Defining the observation time variables and magnitudes\n",
    "observation_time = []\n",
    "total_observation_time = 0\n",
    "brightness_list = [1e-05,\n",
    "  5.248074602497734e-06,\n",
    "  1.2022644346174132e-06,\n",
    "  2.29086765276777e-08,\n",
    "  3.981071705534969e-09,\n",
    "  3.981071705534969e-08,\n",
    "  7.585775750291836e-07,\n",
    "  6.309573444801929e-05,\n",
    "  6.309573444801942e-10]\n",
    "\n",
    "def star_brightnesses(observation_time, total_observation_time):\n",
    "    # Calculating the observation times then appending them into a list\n",
    "    for i in brightness_list:\n",
    "        if i > 3.981071705534969e-09: # This is the the minimum brightness corresponding to the stars with a magnitude greater than 20\n",
    "            observation_time.append(1 / i)\n",
    "        # Disregarding faint stars\n",
    "        else:\n",
    "            print(\"Ignored\") \n",
    "        total_observation_time = sum(observation_time)\n",
    "    return observation_time, total_observation_time\n",
    "\n",
    "star_brightnesses(observation_time, total_observation_time)\n",
    "            \n",
    "    "
   ]
  },
  {
   "cell_type": "markdown",
   "id": "102d3c15-0b4f-48a7-8fdc-f896c1841aca",
   "metadata": {},
   "source": [
    "## 3.3 Time Until the Limit\n",
    "1) Write a **function** which inputs a list of star magnitudes (brightnesses) and time limit.\n",
    "   - Make your time limit a default argument.\n",
    "2) Inside your function, make a counter called `total time` and set it to 0.\n",
    "3) Inside your function, use a `while` loop to set the time limit of your observation.\n",
    "4) Inside your function, use assigment operators to update the `total time` observed. \n",
    "5) Inside your function, use a `condition` to skip stars with magnitude 20 or greater. \n",
    "6) Have your function return the **number of stars that can be observed** within the time limit and **how long the observation will take** (this should be less than the time limit).\n",
    "7) Test out your function with the **given** magnitude values and time limit."
   ]
  },
  {
   "cell_type": "code",
   "execution_count": 11,
   "id": "5a541a62-0903-41bd-91c9-ee21172069a3",
   "metadata": {},
   "outputs": [
    {
     "data": {
      "text/plain": [
       "(2, 290546.07179632434)"
      ]
     },
     "execution_count": 11,
     "metadata": {},
     "output_type": "execute_result"
    }
   ],
   "source": [
    "# Your code here for 3.3\n",
    "magnitudes = [12.5, 13.2, 14.8, 19.1, 21.0, 18.5, 15.3, 10.5, 23.0]\n",
    "time_limit = 500000 # Changed time limit to accommodate for star observation time length\n",
    "\n",
    "def star_observation_limit(time_limit):\n",
    "    index = 0\n",
    "    total_time = 0\n",
    "    limited_observation_time = []\n",
    "    \n",
    "    # Iterating over the magnitudes\n",
    "    while index < len(magnitudes) and total_time <= time_limit:\n",
    "        magnitude = magnitudes[index]\n",
    "        index += 1\n",
    "       \n",
    "        # Ignoring stars with magnitude >= 20\n",
    "        if magnitude >= 20:\n",
    "            continue\n",
    "        # Calculate observation time for the star\n",
    "        else:\n",
    "            time_for_star = 1 / (10 ** (-magnitude / 2.5))\n",
    "            total_time += time_for_star\n",
    "        # Stopping if limit is reached\n",
    "        if total_time + time_for_star > time_limit:\n",
    "            total_time -= time_for_star # Removing this star's observation time if it goes over\n",
    "            break\n",
    "        limited_observation_time.append(time_for_star)\n",
    "    return len(limited_observation_time), total_time\n",
    "\n",
    "star_observation_limit(time_limit)\n",
    "    \n",
    "    "
   ]
  },
  {
   "cell_type": "markdown",
   "id": "d2ab246f-9570-483e-b35b-cf1056f20936",
   "metadata": {},
   "source": [
    "## 3.4 Call Upon Your Functions\n",
    "You do not need to rewrite your functions once you have written them! That's what is so awesome about **functions**! \n",
    "\n",
    "1) With a new test case (different magnitudes and time limit) call your three functions you wrote above.\n",
    "2) Print out their return statements, example:\n",
    "\n",
    "```\n",
    ">>> my_return = my_function(my_argument):\n",
    ">>> print(my_return)\n",
    "```"
   ]
  },
  {
   "cell_type": "code",
   "execution_count": 12,
   "id": "4c4c9389-04f5-49bc-823c-a12d6c003b60",
   "metadata": {},
   "outputs": [
    {
     "data": {
      "text/plain": [
       "(8, 40216109.89577286)"
      ]
     },
     "execution_count": 12,
     "metadata": {},
     "output_type": "execute_result"
    }
   ],
   "source": [
    "# Your code here for 3.4\n",
    "magnitudes = [12.5, 3.8, 20.1, 14.2, 18.9, 7.3, 22.4, 10.6, 5.2, 16.3]\n",
    "time_limit = 100000000\n",
    "\n",
    "star_observation_limit(time_limit)"
   ]
  },
  {
   "cell_type": "markdown",
   "id": "daba92d4-a646-4efc-824d-85b52ea3c573",
   "metadata": {},
   "source": [
    "# 4 Debug the Quadratic Function!\n",
    "The code below does not follow proper coding hygiene (good coding sklls) and is riddled with bugs! Answer the following question and follow the steps below:\n",
    "1) When you run the cell, what is the first error you get? What does this mean? What are three other things wrong with this function?\n",
    "2) Fix the bugs! No importing packages.\n",
    "3) Rewrite the code, such that it follows \"good coding skills\".\n",
    "\n",
    "Try out the test case of `a = 2`, `b = -5` and `c = 3`. You should get `(1.5, 1.0)`. Try out your own test case as well."
   ]
  },
  {
   "cell_type": "code",
   "execution_count": 17,
   "id": "cd66dd28-f8d3-447c-8d20-ff3e31bfaa07",
   "metadata": {},
   "outputs": [
    {
     "name": "stdout",
     "output_type": "stream",
     "text": [
      "(1.5, 1.0)\n",
      "No real roots.\n",
      "((0.875-0.8569568250501305j), (0.875+0.8569568250501305j))\n"
     ]
    }
   ],
   "source": [
    "# Syntax error\n",
    "# There is a difference in the data types in the operation\n",
    "# The variables are not clearly labeled, there are no comments, the quadratic formula is calculated wrong\n",
    "\n",
    "def quadratic_function(a, b, c):\n",
    "    # Defining variables\n",
    "    denominator = 2 * a\n",
    "    discriminant = (b ** 2) - (4 * a * c)\n",
    "\n",
    "    # Check if denominator is zero\n",
    "    if a == 0:\n",
    "        print(\"Denominator can't be 0.\")\n",
    "    # Check if discriminant is negative\n",
    "    if discriminant < 0:\n",
    "        print(\"No real roots.\")\n",
    "    # Calculate answer\n",
    "    positive_answer = (-b + (discriminant ** (1/2))) / denominator\n",
    "    negative_answer = (-b - (discriminant ** (1/2))) / denominator\n",
    "    \n",
    "    return positive_answer, negative_answer\n",
    "\n",
    "print(quadratic_function(2, -5, 3))\n",
    "\n",
    "# Test Case\n",
    "\n",
    "print(quadratic_function(-4 ,7 ,-6))"
   ]
  },
  {
   "cell_type": "markdown",
   "id": "8cf33b19-9bca-484e-8129-d8a4896a1bfa",
   "metadata": {},
   "source": [
    "# 5 Proper Submission\n",
    "To recieve full credit for this assignment make sure you do the following:\n",
    "1) Copy this jupter notebook from the `ulab_2024` repository into **YOUR** local `homework` branch.\n",
    "   \n",
    "3) Follow the tasks. Make sure to run all the cells so that all output is visible.\n",
    "   \n",
    "5) Push this notebook to your remote `homework6` branch. Refer to the lecture slides for more information.\n",
    "      \n",
    "6) **WARNING!! IF YOU DO NOT FOLLOW THIS STEP YOU WILL RECIEVE A ZERO!**\n",
    "   1) Take a screenshot of your command line when you `push` this notebook from your local `homework6` branch to your remote `homework6` branch. Make sure to prove that you are inside a branch besides `main` or `master` by calling `git branch` and make sure to prove that your `homework6` branch only contains the homework4 folder of Jupyter Notebook you copied over from `ulab_2024` (which can be done by calling `ls`). You could also call `git status` before/after as a way to prove you pushed the proper files to the correct branches.\n",
    "   2)  Include that screenshot in your remote branch when you upload your GitHub branch to Gradescope!"
   ]
  },
  {
   "cell_type": "code",
   "execution_count": null,
   "id": "b0926042-d1cf-4a2e-8fc8-d93395a6a7cf",
   "metadata": {},
   "outputs": [],
   "source": []
  }
 ],
 "metadata": {
  "kernelspec": {
   "display_name": "Python 3 (ipykernel)",
   "language": "python",
   "name": "python3"
  },
  "language_info": {
   "codemirror_mode": {
    "name": "ipython",
    "version": 3
   },
   "file_extension": ".py",
   "mimetype": "text/x-python",
   "name": "python",
   "nbconvert_exporter": "python",
   "pygments_lexer": "ipython3",
   "version": "3.12.4"
  }
 },
 "nbformat": 4,
 "nbformat_minor": 5
}
