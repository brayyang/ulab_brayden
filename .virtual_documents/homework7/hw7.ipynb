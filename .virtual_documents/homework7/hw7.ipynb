





import numpy as np





# Your code here
import numpy as np

my_list = [2, 3, 4, 5, 6]
my_arr = np.array([2, 3, 4, 5, 6])





# Your code here
import numpy as np

np.multiply(my_list, my_list)
np.multiply(my_arr, 4)

# Multiplying the lists does nothing, only multiplying the array works





# Your code here
import numpy as np

np.add(my_list, my_list)
np.add(my_arr, my_arr)
np.add(my_list, my_arr)

# Adding the lists and adding the list with the array does nothing, only adding the arrays works





# Your code here
import numpy as np

np.subtract(my_list, my_list)
np.subtract(my_arr, my_arr)
np.subtract(my_list, my_arr)

# Subtracting the lists and subtracting the list with the array does nothing, only subtracting arrays works





# Your code here
import numpy as np

np.multiply(my_list, my_list)
np.multiply(my_arr, my_arr)
np.multiply(my_list, my_arr)

# Multiplying the lists and multiplying the list with the array does nothing, only multiplying the arrays works





# Your code here
import numpy as np

np.divide(my_list, my_list)
np.divide(my_arr, my_arr)
np.divide(my_list, my_arr)

# Dividing the lists and dividing the list by the array does nothing, only dividing the arrays works





# Your code here
# A list consists of multiple elements that can be of any data type, but arrays are like lists but only with numbers. 
# Therefore, we can perform mathematical operations directly on arrays, but not lists.





# Your code here
import numpy as np

array1 = np.array([[1, 3, 5], [2, 4, 6]])
def second_value(array1):
    # Returns the second value in each row of arr1
    elements = arr1[0,1], arr1[1,1]
    return elements

second_value(array1)





# Your comment here
# The array indexing section helped me write my function.
# They gave two examples of accessing elements from 2D arrays.








# Your code here
import numpy as np

import numpy as np

array = np.array([[2, 4, -6], [5, 10, -115], [7, -14, 21], [-10, 20, 30]])

def iterating_arrays(arr):
    # Using a for loop to iterate through each element in the array
    for i in np.nditer(arr):
        # Dismissing negative numbers
        if i < 0:
            print("Invalid")
        else:
            print("Car number", i)  
    return
            
iterating_arrays(array)





# Your code here
import numpy as np

# Iterating on a 1D array
arr = np.array([13, 5, 8])
for x in arr:
  print(x) 

arr = np.array([22, 22, 22])
for x in arr:
  print(x) 

# Iterating on a 2D array
arr = np.array([[7, 1, 1], [9, 1, 1]])
for x in arr2:
  print(x) 

arr = np.array([[6, 2, 6], [9, 0, 9]])
for x in arr2:
  print(x) 

# Returning scalars in 2D arrays
arr = np.array([[7, 1, 1], [9, 1, 1]])
for x in arr:
  for y in x:
    print(y) 

arr = np.array([[6, 2, 6], [9, 0, 9]])
for x in arr:
  for y in x:
    print(y) 

# Iterating on a 3D array
arr = np.array([[[1, 2, 3], [4, 5, 6]], [[6, 5, 4], [3, 2, 1]]])
for x in arr:
  print(x) 

arr = np.array([[[5, 3, 7], [42, 52, 64]], [[12, 42, 99], [10, 61, 82]]])
for x in arr:
  print(x) 

# Returning scalars in 3D arrays
arr = np.array([[[1, 2, 3], [4, 5, 6]], [[6, 5, 4], [3, 2, 1]]])
for x in arr:
  for y in x:
    for z in y:
      print(z) 

arr = np.array([[[5, 3, 7], [42, 52, 64]], [[12, 42, 99], [10, 61, 82]]])
for x in arr:
  for y in x:
    for z in y:
      print(z) 

# Iterating n-dimensional arrays
arr = np.array([[[2, 4], [3, 9]], [[5, 25], [7, 49]]])
for x in np.nditer(arr):
  print(x) 

arr = np.array([[[2, 8], [3, 27]], [[5, 125], [7, 343]]])
for x in np.nditer(arr):
  print(x) 

# Iterating arrays with different data types
    # the op_dtypes argement changes the datatype of elements while iterating
    # The buffer space is where numpy actually changes the data type, not in the place of the element itself
arr = np.array([4, 8, 64])
for x in np.nditer(arr, flags=['buffered'], op_dtypes=['S']):
  print(x) 

arr = np.array([3, 33, 333])
for x in np.nditer(arr, flags=['buffered'], op_dtypes=['S']):
  print(x) 

# Iterating with different step size
arr = np.array([[7, 6, 5, 4], [12, 11, 10, 9]])
for x in np.nditer(arr[:, ::2]): # This skips every other element
  print(x) 

arr = np.array([[7, 6, 5, 4], [12, 11, 10, 9]])
for x in np.nditer(arr[:, ::3]): # Skipping every 2nd element
  print(x) 

# Enumerated iteration
    # Using ndenumerate() for corresponding indices of elements while iterating
arr = np.array([1, 25, 50])
for idx, x in np.ndenumerate(arr):
  print(idx, x) 

    # In two dimensions
arr = np.array([[1, 25, 50], [51, 75, 100]])
for idx, x in np.ndenumerate(arr):
  print(idx, x) 





# Your comment here
# In my iterating_arrays function, I was inspired by the example about iterating arrays in higher dimensions.
# Because it gets difficult iterating scalar elements in high dimensionality, the nditer() function is like a shortcut to make it work.





# Your code here
import even_sum as es





# Your code here
list1 = [1, 2, 3]
list2 = [11, 12, 13]
es.sum_even_numbers(list1 + list2)





# Your code here





rocket_velocities = np.array([
    [1000, 5000, 8000, 12000],  # Rocket 1's velocity at different times
    [2000, 6000, 9000, 10000],  # Rocket 2
    [3000, 3100, 3200, 3300]    # Rocket 3
])

mass_of_planet = 5.972e24 # kilograms
radius_of_planet = 6.371e6 # meters


# Your code here





# Your comments here





# Your comment here





# Your comment here





# Your code here





# Your code here



